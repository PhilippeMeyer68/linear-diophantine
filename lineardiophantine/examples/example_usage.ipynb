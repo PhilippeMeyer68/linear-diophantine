{
 "cells": [
  {
   "cell_type": "markdown",
   "id": "4bf274a8-5c4b-4205-a21f-e3e33dc98b7f",
   "metadata": {},
   "source": [
    "# **Solving linear Diophantine systems over natural numbers $\\mathbb{N}$**"
   ]
  },
  {
   "cell_type": "markdown",
   "id": "059eb540-f1f1-460f-9605-5cc5f1eb6a24",
   "metadata": {
    "jp-MarkdownHeadingCollapsed": true
   },
   "source": [
    "In this notebook, we provide examples demonstrating the use of the ```solve_on_n``` function that solves linear Diophantine systems over natural numbers $\\mathbb{N}$. We briefly recall definitions and theoretical results about linear Diophantine systems.\n",
    "\n",
    "## **Definition**\n",
    "\n",
    "A linear Diophantine system is a system of equations of the form \n",
    "$$\\left\\{\n",
    "\\begin{aligned}\n",
    " a_{1,1}x_1 + ... + a_{1,n}x_n & = b_1\\\\\n",
    " \\vdots & \\\\\n",
    " a_{m,1}x_1 + ... + a_{m,n}x_n & = b_m\\\\\n",
    "\\end{aligned} \\right. \\quad (E)$$\n",
    "where $a_{i,j}, b_{k} \\in \\mathbb{Z}$ and where we are looking for natural number solutions $(x_1,\\ldots,x_n) \\in \\mathbb{N}^n$.\n",
    "\n",
    "Solving the system $(E)$ is equivalent to solve the matrix equation $AX = b$ where $A = \\begin{pmatrix}\n",
    "a_{1,1} & \\ldots & a_{1,n} \\\\\n",
    "& \\vdots & \\\\\n",
    "a_{m,1} & \\ldots & a_{m,n}\n",
    "\\end{pmatrix}$, $b = \\begin{pmatrix}\n",
    "b_1\\\\\n",
    "\\vdots\\\\\n",
    "b_m\n",
    "\\end{pmatrix}$ and $X = \\begin{pmatrix}\n",
    "x_1\\\\\n",
    "\\vdots\\\\\n",
    "x_n\n",
    "\\end{pmatrix}$.\n",
    "\n",
    "The linear Diophantine system $AX = 0 ~ (E_h)$ is called the homogeneous system associated to $(E)$.\n",
    "\n",
    "## **Solutions**\n",
    "\n",
    "There exist a set of particular solutions $X_{p,1},\\ldots, X_{p,r}\\in \\mathbb{N}^n$ of $(E)$ and a set of homogeneous solutions $X_{h,1}, \\ldots, X_{h,s}\\in \\mathbb{N}^n$ of $(E_h)$ such that every solution $X \\in \\mathbb{N}^n$ of $(E)$ is of the form\n",
    "$$X = X_{p,j} + \\sum\\limits_{i=1}^s \\lambda_i X_{h,i}$$\n",
    "for a $j \\in ⟦1,r⟧$ and where $\\lambda_i \\in \\mathbb{N} ~ \\forall i \\in ⟦1,s⟧$.\n",
    "\n",
    "## **Solving function**\n",
    "\n",
    "The function ```solve_on_n``` takes as parameters the matrix ```A``` and the vector ```b``` of the linear Diophantine system $(E)$. The required formats are the following:\n",
    "- the matrix ```A``` has to be in format ```numpy.ndarray``` and of shape: ```(m × n)```;\n",
    "- the vector ```b``` has to be in format ```numpy.ndarray``` and of shape: ```(m,)```.\n",
    "\n",
    "The function ouputs a tuple ```(unhom_basis, hom_basis)```, where:\n",
    "\n",
    "- ```unhom_basis``` is a list of vectors in list format corresponding to the particular solutions $X_{p,1},\\ldots, X_{p,r}$ of $(E)$;\n",
    "- ```hom_basis``` is a list of vectors in list format corresponding to the homogeneous solutions $X_{h,1}, \\ldots, X_{h,s}$ of $(E_h)$.\n",
    "\n",
    "## **Solving algorithm**\n",
    "\n",
    "The ```solve_on_n``` function uses the Contejean-Devie algorithm. See\n",
    "\n",
    "- Contejean, E., & Devie, H. (1994). An efficient incremental algorithm for solving systems of linear diophantine equations. Information and computation, 113(1), 143-172.\n",
    "\n",
    "## **Bonus: solving over $\\mathbb{Z}$**\n",
    "\n",
    "Linear Diophantine systems are easier to solve over positive and negative integers $\\mathbb{Z}$ since the solution set is a $\\mathbb{Z}$-module and remark that only one particular solution is necessary to express any solution in that case. For sake of completeness we have also included a ```solve_on_z``` that solves linear Diophantine systems over positive and negative integers $\\mathbb{Z}$ using the Smith normal form method."
   ]
  },
  {
   "cell_type": "markdown",
   "id": "d126f24c-103e-40cf-baae-caae978a2581",
   "metadata": {},
   "source": [
    "# **Solving linear Diophantine systems over $\\mathbb{N}$: example**"
   ]
  },
  {
   "cell_type": "code",
   "execution_count": 1,
   "id": "93754459-76eb-4fbf-a0ee-40e0ef58033f",
   "metadata": {},
   "outputs": [],
   "source": [
    "import numpy as np\n",
    "\n",
    "from lineardiophantine.solve import solve_on_n"
   ]
  },
  {
   "cell_type": "markdown",
   "id": "183e877b-323d-4cc5-8161-f7515114c461",
   "metadata": {},
   "source": [
    "We now give an example of a linear Diophantine system that we will solve over the natural numbers $\\mathbb{N}$. Consider the system\n",
    "$$\\left\\{\n",
    "\\begin{aligned}\n",
    "5x_1 - 9x_2 + 8x_3 + 6x_4 & = 1\\\\\n",
    "7x_1 - 7x_2 + 6x_3 + 9x_4 & = 7\\\\\n",
    "17x_1 - 25x_2 + 22x_3 + 21x_4 & = 9\\\\\n",
    "\\end{aligned} \\right. \\quad (E_1).$$\n",
    "\n",
    "The matrix $A$ and the vector $b$ associated to this system are\n",
    "$$A = \\begin{pmatrix}\n",
    "5 & -9 & 8 & 6\\\\\n",
    "7 & -7 & 6 & 9\\\\\n",
    "17 & -25 & 22 & 21\\\\\n",
    "\\end{pmatrix}, \\qquad b = \\begin{pmatrix}\n",
    "1\\\\\n",
    "7\\\\\n",
    "9\\\\\n",
    "\\end{pmatrix}.$$"
   ]
  },
  {
   "cell_type": "code",
   "execution_count": 2,
   "id": "082e9803-932b-46b5-a720-51ba1ad0271a",
   "metadata": {},
   "outputs": [],
   "source": [
    "A = np.array([[5, -9, 8, 6], [7, -7, 6, 9], [17, -25, 22, 21]])\n",
    "b = np.array([1, 7, 9])"
   ]
  },
  {
   "cell_type": "markdown",
   "id": "1f75223b-dd3b-400c-9b18-20fad815b66e",
   "metadata": {},
   "source": [
    "We now use the ```solve_on_n``` function to solve $(E_1)$."
   ]
  },
  {
   "cell_type": "code",
   "execution_count": 3,
   "id": "edfa7a1e-cf16-4487-bd8f-0b4fcdc93f34",
   "metadata": {},
   "outputs": [
    {
     "data": {
      "text/plain": [
       "([[0, 11, 11, 2], [2, 1, 0, 0]], [[0, 36, 39, 2], [1, 13, 14, 0]])"
      ]
     },
     "execution_count": 3,
     "metadata": {},
     "output_type": "execute_result"
    }
   ],
   "source": [
    "unhom_basis, hom_basis = solve_on_n(A, b)\n",
    "unhom_basis, hom_basis"
   ]
  },
  {
   "cell_type": "markdown",
   "id": "9f950e27-7c14-44fc-b87d-a7fade6158b9",
   "metadata": {},
   "source": [
    "We have obtained that two particular solutions $X_{p,1}= \\begin{pmatrix}\n",
    "0\\\\\n",
    "11\\\\\n",
    "11\\\\\n",
    "2\\\\\n",
    "\\end{pmatrix}$ and $X_{p,2}= \\begin{pmatrix}\n",
    "2\\\\\n",
    "1\\\\\n",
    "0\\\\\n",
    "0\\\\\n",
    "\\end{pmatrix}$ and two homogeneous solutions $X_{h,1}= \\begin{pmatrix}\n",
    "0\\\\\n",
    "36\\\\\n",
    "39\\\\\n",
    "2\\\\\n",
    "\\end{pmatrix}$ and $X_{h,2}= \\begin{pmatrix}\n",
    "1\\\\\n",
    "13\\\\\n",
    "14\\\\\n",
    "0\\\\\n",
    "\\end{pmatrix}$ are required to express any solution of $(E_1)$. Hence any solution $X$ of $(E_1)$ is of the form $X=X_{p,i}+\\lambda_1X_{h,1}+\\lambda_2X_{h,2}$ for some $i \\in \\{ 1,2\\}$ and for some $\\lambda_1, \\lambda_2 \\in \\mathbb{N}$."
   ]
  },
  {
   "cell_type": "markdown",
   "id": "5278f007-ab43-4e09-8830-a030ecf1e1cb",
   "metadata": {},
   "source": [
    "# **Other example**"
   ]
  },
  {
   "cell_type": "markdown",
   "id": "be8056ca-7a28-4218-bf39-10fdd7e4fc67",
   "metadata": {},
   "source": [
    "The Contejean-Devie algorithm is a greedy algorithm and the solving computational time explodes as the system dimension increases. Here is an example of shape $(7, 11)$ that takes around 90 seconds to be solved and that gives 6 particular solutions and 5 homogeneous solutions. "
   ]
  },
  {
   "cell_type": "code",
   "execution_count": 4,
   "id": "2361538b-1558-49f4-ba66-a905f5ca6357",
   "metadata": {},
   "outputs": [
    {
     "data": {
      "text/plain": [
       "([[0, 10, 1, 0, 3, 0, 4, 0, 0, 2, 0],\n",
       "  [1, 1, 2, 1, 4, 0, 1, 3, 1, 1, 0],\n",
       "  [2, 4, 3, 2, 5, 0, 2, 0, 0, 2, 0],\n",
       "  [1, 7, 2, 1, 4, 0, 3, 0, 0, 2, 0],\n",
       "  [0, 4, 1, 0, 3, 0, 2, 3, 1, 1, 0],\n",
       "  [3, 1, 4, 3, 6, 0, 1, 0, 0, 2, 0]],\n",
       " [[0, 6, 0, 0, 0, 0, 2, 0, 0, 1, 1],\n",
       "  [0, 0, 0, 0, 0, 0, 0, 3, 1, 0, 1],\n",
       "  [2, 0, 2, 2, 2, 0, 0, 0, 0, 1, 1],\n",
       "  [0, 0, 0, 1, 0, 1, 0, 0, 0, 1, 0],\n",
       "  [1, 3, 1, 1, 1, 0, 1, 0, 0, 1, 1]])"
      ]
     },
     "execution_count": 4,
     "metadata": {},
     "output_type": "execute_result"
    }
   ],
   "source": [
    "A = np.array(\n",
    "    [\n",
    "        [-1, 0, 1, 0, 0, 0, 0, 0, 0, 0, 0],\n",
    "        [0, -1, 0, 0, 0, 0, 3, 0, 0, 0, 0],\n",
    "        [0, 0, 0, 0, 0, 0, 0, -1, 3, 0, 0],\n",
    "        [0, 0, 0, -1, 1, 1, 0, 0, 0, 0, 0],\n",
    "        [0, 0, -1, 0, 1, 0, 0, 0, 0, 0, 0],\n",
    "        [0, 0, 0, 0, 1, 2, 1, 0, 0, -2, 0],\n",
    "        [-1, -1, 0, -1, 1, 1, 2, -1, 1, 0, 2],\n",
    "    ]\n",
    ")\n",
    "b = np.array([1, 2, 0, 3, 2, 3, 1])\n",
    "\n",
    "unhom_basis, hom_basis = solve_on_n(A, b)\n",
    "unhom_basis, hom_basis"
   ]
  },
  {
   "cell_type": "markdown",
   "id": "c33f48b8-cc55-4004-8b25-e03ac4b0e77a",
   "metadata": {},
   "source": [
    "# **Bonus: solving over $\\mathbb{Z}$**"
   ]
  },
  {
   "cell_type": "markdown",
   "id": "b9bac0a0-a1b7-4de5-92d2-7e3de3c0358c",
   "metadata": {},
   "source": [
    "Here are some the same examples as before but using the ```solve_on_z``` function to solve the linear Diophantine systems over positive and negative integers $\\mathbb{Z}$. This solving method is very quick."
   ]
  },
  {
   "cell_type": "code",
   "execution_count": 5,
   "id": "bd6f542c-aa09-478f-ad5f-debf06569545",
   "metadata": {},
   "outputs": [],
   "source": [
    "from lineardiophantine.solve import solve_on_z"
   ]
  },
  {
   "cell_type": "code",
   "execution_count": 6,
   "id": "4fc0c647-1d03-4a6e-ac37-da4b3e4dfe86",
   "metadata": {},
   "outputs": [
    {
     "data": {
      "text/plain": [
       "([[2, 1, 0, 0]], [[31, 7, 5, -22], [14, 2, 1, -10]])"
      ]
     },
     "execution_count": 6,
     "metadata": {},
     "output_type": "execute_result"
    }
   ],
   "source": [
    "A = np.array([[5, -9, 8, 6], [7, -7, 6, 9], [17, -25, 22, 21]])\n",
    "b = np.array([1, 7, 9])\n",
    "\n",
    "unhom_basis, hom_basis = solve_on_z(A, b)\n",
    "unhom_basis, hom_basis"
   ]
  },
  {
   "cell_type": "code",
   "execution_count": 7,
   "id": "fdfc9aef-1f35-4ee0-957d-15e423942cba",
   "metadata": {},
   "outputs": [
    {
     "data": {
      "text/plain": [
       "([[-1, 13, 0, -3, 2, -2, 5, 0, 0, 0, 0]],\n",
       " [[1, -3, 1, 1, 1, 0, -1, 0, 0, 0, 0],\n",
       "  [0, -6, 0, 1, 0, 1, -2, 3, 1, 0, 0],\n",
       "  [0, 0, 0, 1, 0, 1, 0, 0, 0, 1, 0],\n",
       "  [0, 6, 0, -1, 0, -1, 2, 0, 0, 0, 1]])"
      ]
     },
     "execution_count": 7,
     "metadata": {},
     "output_type": "execute_result"
    }
   ],
   "source": [
    "A = np.array(\n",
    "    [\n",
    "        [-1, 0, 1, 0, 0, 0, 0, 0, 0, 0, 0],\n",
    "        [0, -1, 0, 0, 0, 0, 3, 0, 0, 0, 0],\n",
    "        [0, 0, 0, 0, 0, 0, 0, -1, 3, 0, 0],\n",
    "        [0, 0, 0, -1, 1, 1, 0, 0, 0, 0, 0],\n",
    "        [0, 0, -1, 0, 1, 0, 0, 0, 0, 0, 0],\n",
    "        [0, 0, 0, 0, 1, 2, 1, 0, 0, -2, 0],\n",
    "        [-1, -1, 0, -1, 1, 1, 2, -1, 1, 0, 2],\n",
    "    ]\n",
    ")\n",
    "b = np.array([1, 2, 0, 3, 2, 3, 1])\n",
    "\n",
    "unhom_basis, hom_basis = solve_on_z(A, b)\n",
    "unhom_basis, hom_basis"
   ]
  },
  {
   "cell_type": "code",
   "execution_count": null,
   "id": "b8e9af01-c04b-41a3-a30d-57bfd6675b2a",
   "metadata": {},
   "outputs": [],
   "source": []
  }
 ],
 "metadata": {
  "kernelspec": {
   "display_name": "Python 3 (ipykernel)",
   "language": "python",
   "name": "python3"
  },
  "language_info": {
   "codemirror_mode": {
    "name": "ipython",
    "version": 3
   },
   "file_extension": ".py",
   "mimetype": "text/x-python",
   "name": "python",
   "nbconvert_exporter": "python",
   "pygments_lexer": "ipython3",
   "version": "3.10.14"
  }
 },
 "nbformat": 4,
 "nbformat_minor": 5
}
